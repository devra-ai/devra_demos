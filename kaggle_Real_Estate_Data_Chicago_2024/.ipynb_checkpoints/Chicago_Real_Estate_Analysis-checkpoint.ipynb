{
 "cells": [
  {
   "cell_type": "markdown",
   "id": "a8978c85",
   "metadata": {},
   "source": [
    "# Chicago Real Estate Data Analysis\n",
    "This notebook provides an analysis of the Chicago real estate data."
   ]
  },
  {
   "cell_type": "code",
   "execution_count": null,
   "id": "4681421e",
   "metadata": {},
   "outputs": [],
   "source": [
    "# Import necessary libraries\n",
    "import pandas as pd\n",
    "import numpy as np\n",
    "import matplotlib.pyplot as plt\n",
    "import seaborn as sns\n",
    "\n",
    "# Set plot style\n",
    "sns.set(style='whitegrid')"
   ]
  },
  {
   "cell_type": "code",
   "execution_count": null,
   "id": "78e0a001",
   "metadata": {},
   "outputs": [],
   "source": [
    "# Load the data\n",
    "file_path = 'real_estate_data_chicago.csv'\n",
    "df = pd.read_csv(file_path)\n",
    "df.head()"
   ]
  },
  {
   "cell_type": "markdown",
   "id": "f251ed28",
   "metadata": {},
   "source": [
    "## Data Cleaning\n",
    "Handle missing values and correct data types."
   ]
  },
  {
   "cell_type": "code",
   "execution_count": null,
   "id": "0a1ccaa6",
   "metadata": {},
   "outputs": [],
   "source": [
    "# Data Cleaning\n",
    "# Convert 'soldOn' to datetime\n",
    "df['soldOn'] = pd.to_datetime(df['soldOn'], errors='coerce')\n",
    "\n",
    "# Fill missing values\n",
    "df['lastSoldPrice'].fillna(0, inplace=True)\n",
    "df['soldOn'].fillna(pd.Timestamp('1970-01-01'), inplace=True)\n",
    "df['garage'].fillna(0, inplace=True)\n",
    "df['baths_half'].fillna(0, inplace=True)\n",
    "\n",
    "# Convert data types\n",
    "df['garage'] = df['garage'].astype(int)\n",
    "df['baths_half'] = df['baths_half'].astype(int)\n",
    "df['lastSoldPrice'] = df['lastSoldPrice'].astype(float)\n",
    "\n",
    "df.info()"
   ]
  },
  {
   "cell_type": "markdown",
   "id": "f37d845a",
   "metadata": {},
   "source": [
    "## Exploratory Data Analysis (EDA)\n",
    "Generate summary statistics and visualizations to understand the data."
   ]
  },
  {
   "cell_type": "code",
   "execution_count": null,
   "id": "9f8f15cf",
   "metadata": {},
   "outputs": [],
   "source": [
    "# Summary statistics\n",
    "df.describe()"
   ]
  },
  {
   "cell_type": "code",
   "execution_count": null,
   "id": "49a42397",
   "metadata": {},
   "outputs": [],
   "source": [
    "# Distribution of property types\n",
    "plt.figure(figsize=(10, 6))\n",
    "sns.countplot(data=df, x='type')\n",
    "plt.title('Distribution of Property Types')\n",
    "plt.show()"
   ]
  },
  {
   "cell_type": "code",
   "execution_count": null,
   "id": "5e1e8827",
   "metadata": {},
   "outputs": [],
   "source": [
    "# Price trends over the years\n",
    "plt.figure(figsize=(14, 7))\n",
    "sns.lineplot(data=df, x='year_built', y='listPrice', ci=None)\n",
    "plt.title('Price Trends Over the Years')\n",
    "plt.show()"
   ]
  },
  {
   "cell_type": "markdown",
   "id": "e9bad428",
   "metadata": {},
   "source": [
    "## Feature Engineering\n",
    "Create new features that might be useful for analysis."
   ]
  },
  {
   "cell_type": "code",
   "execution_count": null,
   "id": "2da91f2b",
   "metadata": {},
   "outputs": [],
   "source": [
    "# Feature Engineering\n",
    "# Example: Create a new feature 'age' of the property\n",
    "df['age'] = 2023 - df['year_built']\n",
    "df.head()"
   ]
  },
  {
   "cell_type": "markdown",
   "id": "4f5963c1",
   "metadata": {},
   "source": [
    "## Analysis\n",
    "Perform specific analyses such as price trends, distribution of property types, etc."
   ]
  },
  {
   "cell_type": "code",
   "execution_count": null,
   "id": "bc76322b",
   "metadata": {},
   "outputs": [],
   "source": [
    "# Analysis\n",
    "# Example: Average price by property type\n",
    "avg_price_by_type = df.groupby('type')['listPrice'].mean()\n",
    "avg_price_by_type.plot(kind='bar', figsize=(10, 6))\n",
    "plt.title('Average Price by Property Type')\n",
    "plt.ylabel('Average Price')\n",
    "plt.show()"
   ]
  },
  {
   "cell_type": "markdown",
   "id": "b1647cb2",
   "metadata": {},
   "source": [
    "## Conclusion\n",
    "Summarize the findings and insights."
   ]
  },
  {
   "cell_type": "markdown",
   "id": "701f1209",
   "metadata": {},
   "source": [
    "In this analysis, we explored the Chicago real estate data, performed data cleaning, and conducted exploratory data analysis. We also engineered new features and performed specific analyses to gain insights into the real estate market in Chicago."
   ]
  }
 ],
 "metadata": {
  "kernelspec": {
   "display_name": "Python 3 (ipykernel)",
   "language": "python",
   "name": "python3"
  },
  "language_info": {
   "codemirror_mode": {
    "name": "ipython",
    "version": 3
   },
   "file_extension": ".py",
   "mimetype": "text/x-python",
   "name": "python",
   "nbconvert_exporter": "python",
   "pygments_lexer": "ipython3",
   "version": "3.9.13"
  }
 },
 "nbformat": 4,
 "nbformat_minor": 5
}
